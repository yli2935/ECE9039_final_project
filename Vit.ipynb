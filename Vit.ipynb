{
  "cells": [
    {
      "cell_type": "code",
      "execution_count": 1,
      "metadata": {
        "colab": {
          "base_uri": "https://localhost:8080/"
        },
        "id": "Av5LtIt24rH3",
        "outputId": "1f259b86-195d-42ea-b881-a24b313d24b6"
      },
      "outputs": [
        {
          "output_type": "stream",
          "name": "stdout",
          "text": [
            "Looking in indexes: https://pypi.org/simple, https://us-python.pkg.dev/colab-wheels/public/simple/\n",
            "Collecting tensorflow_addons\n",
            "  Downloading tensorflow_addons-0.20.0-cp39-cp39-manylinux_2_17_x86_64.manylinux2014_x86_64.whl (591 kB)\n",
            "\u001b[2K     \u001b[90m━━━━━━━━━━━━━━━━━━━━━━━━━━━━━━━━━━━━━━\u001b[0m \u001b[32m591.0/591.0 KB\u001b[0m \u001b[31m11.4 MB/s\u001b[0m eta \u001b[36m0:00:00\u001b[0m\n",
            "\u001b[?25hCollecting typeguard<3.0.0,>=2.7\n",
            "  Downloading typeguard-2.13.3-py3-none-any.whl (17 kB)\n",
            "Requirement already satisfied: packaging in /usr/local/lib/python3.9/dist-packages (from tensorflow_addons) (23.0)\n",
            "Installing collected packages: typeguard, tensorflow_addons\n",
            "Successfully installed tensorflow_addons-0.20.0 typeguard-2.13.3\n",
            "Looking in indexes: https://pypi.org/simple, https://us-python.pkg.dev/colab-wheels/public/simple/\n",
            "Collecting keras-tuner\n",
            "  Downloading keras_tuner-1.3.4-py3-none-any.whl (172 kB)\n",
            "\u001b[2K     \u001b[90m━━━━━━━━━━━━━━━━━━━━━━━━━━━━━━━━━━━━━━━\u001b[0m \u001b[32m172.2/172.2 KB\u001b[0m \u001b[31m7.2 MB/s\u001b[0m eta \u001b[36m0:00:00\u001b[0m\n",
            "\u001b[?25hRequirement already satisfied: tensorflow>=2.0 in /usr/local/lib/python3.9/dist-packages (from keras-tuner) (2.12.0)\n",
            "Collecting kt-legacy\n",
            "  Downloading kt_legacy-1.0.4-py3-none-any.whl (9.6 kB)\n",
            "Requirement already satisfied: protobuf<=3.20.3 in /usr/local/lib/python3.9/dist-packages (from keras-tuner) (3.20.3)\n",
            "Requirement already satisfied: packaging in /usr/local/lib/python3.9/dist-packages (from keras-tuner) (23.0)\n",
            "Requirement already satisfied: requests in /usr/local/lib/python3.9/dist-packages (from keras-tuner) (2.27.1)\n",
            "Requirement already satisfied: absl-py>=1.0.0 in /usr/local/lib/python3.9/dist-packages (from tensorflow>=2.0->keras-tuner) (1.4.0)\n",
            "Requirement already satisfied: tensorflow-estimator<2.13,>=2.12.0 in /usr/local/lib/python3.9/dist-packages (from tensorflow>=2.0->keras-tuner) (2.12.0)\n",
            "Requirement already satisfied: google-pasta>=0.1.1 in /usr/local/lib/python3.9/dist-packages (from tensorflow>=2.0->keras-tuner) (0.2.0)\n",
            "Requirement already satisfied: wrapt<1.15,>=1.11.0 in /usr/local/lib/python3.9/dist-packages (from tensorflow>=2.0->keras-tuner) (1.14.1)\n",
            "Requirement already satisfied: tensorboard<2.13,>=2.12 in /usr/local/lib/python3.9/dist-packages (from tensorflow>=2.0->keras-tuner) (2.12.1)\n",
            "Requirement already satisfied: six>=1.12.0 in /usr/local/lib/python3.9/dist-packages (from tensorflow>=2.0->keras-tuner) (1.16.0)\n",
            "Requirement already satisfied: typing-extensions>=3.6.6 in /usr/local/lib/python3.9/dist-packages (from tensorflow>=2.0->keras-tuner) (4.5.0)\n",
            "Requirement already satisfied: flatbuffers>=2.0 in /usr/local/lib/python3.9/dist-packages (from tensorflow>=2.0->keras-tuner) (23.3.3)\n",
            "Requirement already satisfied: keras<2.13,>=2.12.0 in /usr/local/lib/python3.9/dist-packages (from tensorflow>=2.0->keras-tuner) (2.12.0)\n",
            "Requirement already satisfied: grpcio<2.0,>=1.24.3 in /usr/local/lib/python3.9/dist-packages (from tensorflow>=2.0->keras-tuner) (1.53.0)\n",
            "Requirement already satisfied: opt-einsum>=2.3.2 in /usr/local/lib/python3.9/dist-packages (from tensorflow>=2.0->keras-tuner) (3.3.0)\n",
            "Requirement already satisfied: libclang>=13.0.0 in /usr/local/lib/python3.9/dist-packages (from tensorflow>=2.0->keras-tuner) (16.0.0)\n",
            "Requirement already satisfied: gast<=0.4.0,>=0.2.1 in /usr/local/lib/python3.9/dist-packages (from tensorflow>=2.0->keras-tuner) (0.4.0)\n",
            "Requirement already satisfied: h5py>=2.9.0 in /usr/local/lib/python3.9/dist-packages (from tensorflow>=2.0->keras-tuner) (3.8.0)\n",
            "Requirement already satisfied: jax>=0.3.15 in /usr/local/lib/python3.9/dist-packages (from tensorflow>=2.0->keras-tuner) (0.4.7)\n",
            "Requirement already satisfied: tensorflow-io-gcs-filesystem>=0.23.1 in /usr/local/lib/python3.9/dist-packages (from tensorflow>=2.0->keras-tuner) (0.32.0)\n",
            "Requirement already satisfied: numpy<1.24,>=1.22 in /usr/local/lib/python3.9/dist-packages (from tensorflow>=2.0->keras-tuner) (1.22.4)\n",
            "Requirement already satisfied: setuptools in /usr/local/lib/python3.9/dist-packages (from tensorflow>=2.0->keras-tuner) (67.6.1)\n",
            "Requirement already satisfied: termcolor>=1.1.0 in /usr/local/lib/python3.9/dist-packages (from tensorflow>=2.0->keras-tuner) (2.2.0)\n",
            "Requirement already satisfied: astunparse>=1.6.0 in /usr/local/lib/python3.9/dist-packages (from tensorflow>=2.0->keras-tuner) (1.6.3)\n",
            "Requirement already satisfied: charset-normalizer~=2.0.0 in /usr/local/lib/python3.9/dist-packages (from requests->keras-tuner) (2.0.12)\n",
            "Requirement already satisfied: idna<4,>=2.5 in /usr/local/lib/python3.9/dist-packages (from requests->keras-tuner) (3.4)\n",
            "Requirement already satisfied: certifi>=2017.4.17 in /usr/local/lib/python3.9/dist-packages (from requests->keras-tuner) (2022.12.7)\n",
            "Requirement already satisfied: urllib3<1.27,>=1.21.1 in /usr/local/lib/python3.9/dist-packages (from requests->keras-tuner) (1.26.15)\n",
            "Requirement already satisfied: wheel<1.0,>=0.23.0 in /usr/local/lib/python3.9/dist-packages (from astunparse>=1.6.0->tensorflow>=2.0->keras-tuner) (0.40.0)\n",
            "Requirement already satisfied: scipy>=1.7 in /usr/local/lib/python3.9/dist-packages (from jax>=0.3.15->tensorflow>=2.0->keras-tuner) (1.10.1)\n",
            "Requirement already satisfied: ml-dtypes>=0.0.3 in /usr/local/lib/python3.9/dist-packages (from jax>=0.3.15->tensorflow>=2.0->keras-tuner) (0.0.4)\n",
            "Requirement already satisfied: tensorboard-data-server<0.8.0,>=0.7.0 in /usr/local/lib/python3.9/dist-packages (from tensorboard<2.13,>=2.12->tensorflow>=2.0->keras-tuner) (0.7.0)\n",
            "Requirement already satisfied: tensorboard-plugin-wit>=1.6.0 in /usr/local/lib/python3.9/dist-packages (from tensorboard<2.13,>=2.12->tensorflow>=2.0->keras-tuner) (1.8.1)\n",
            "Requirement already satisfied: werkzeug>=1.0.1 in /usr/local/lib/python3.9/dist-packages (from tensorboard<2.13,>=2.12->tensorflow>=2.0->keras-tuner) (2.2.3)\n",
            "Requirement already satisfied: markdown>=2.6.8 in /usr/local/lib/python3.9/dist-packages (from tensorboard<2.13,>=2.12->tensorflow>=2.0->keras-tuner) (3.4.3)\n",
            "Requirement already satisfied: google-auth-oauthlib<1.1,>=0.5 in /usr/local/lib/python3.9/dist-packages (from tensorboard<2.13,>=2.12->tensorflow>=2.0->keras-tuner) (1.0.0)\n",
            "Requirement already satisfied: google-auth<3,>=1.6.3 in /usr/local/lib/python3.9/dist-packages (from tensorboard<2.13,>=2.12->tensorflow>=2.0->keras-tuner) (2.17.1)\n",
            "Requirement already satisfied: rsa<5,>=3.1.4 in /usr/local/lib/python3.9/dist-packages (from google-auth<3,>=1.6.3->tensorboard<2.13,>=2.12->tensorflow>=2.0->keras-tuner) (4.9)\n",
            "Requirement already satisfied: cachetools<6.0,>=2.0.0 in /usr/local/lib/python3.9/dist-packages (from google-auth<3,>=1.6.3->tensorboard<2.13,>=2.12->tensorflow>=2.0->keras-tuner) (5.3.0)\n",
            "Requirement already satisfied: pyasn1-modules>=0.2.1 in /usr/local/lib/python3.9/dist-packages (from google-auth<3,>=1.6.3->tensorboard<2.13,>=2.12->tensorflow>=2.0->keras-tuner) (0.2.8)\n",
            "Requirement already satisfied: requests-oauthlib>=0.7.0 in /usr/local/lib/python3.9/dist-packages (from google-auth-oauthlib<1.1,>=0.5->tensorboard<2.13,>=2.12->tensorflow>=2.0->keras-tuner) (1.3.1)\n",
            "Requirement already satisfied: importlib-metadata>=4.4 in /usr/local/lib/python3.9/dist-packages (from markdown>=2.6.8->tensorboard<2.13,>=2.12->tensorflow>=2.0->keras-tuner) (6.1.0)\n",
            "Requirement already satisfied: MarkupSafe>=2.1.1 in /usr/local/lib/python3.9/dist-packages (from werkzeug>=1.0.1->tensorboard<2.13,>=2.12->tensorflow>=2.0->keras-tuner) (2.1.2)\n",
            "Requirement already satisfied: zipp>=0.5 in /usr/local/lib/python3.9/dist-packages (from importlib-metadata>=4.4->markdown>=2.6.8->tensorboard<2.13,>=2.12->tensorflow>=2.0->keras-tuner) (3.15.0)\n",
            "Requirement already satisfied: pyasn1<0.5.0,>=0.4.6 in /usr/local/lib/python3.9/dist-packages (from pyasn1-modules>=0.2.1->google-auth<3,>=1.6.3->tensorboard<2.13,>=2.12->tensorflow>=2.0->keras-tuner) (0.4.8)\n",
            "Requirement already satisfied: oauthlib>=3.0.0 in /usr/local/lib/python3.9/dist-packages (from requests-oauthlib>=0.7.0->google-auth-oauthlib<1.1,>=0.5->tensorboard<2.13,>=2.12->tensorflow>=2.0->keras-tuner) (3.2.2)\n",
            "Installing collected packages: kt-legacy, keras-tuner\n",
            "Successfully installed keras-tuner-1.3.4 kt-legacy-1.0.4\n"
          ]
        }
      ],
      "source": [
        "!pip install tensorflow_addons\n",
        "!pip install keras-tuner"
      ]
    },
    {
      "cell_type": "code",
      "execution_count": 2,
      "metadata": {
        "colab": {
          "base_uri": "https://localhost:8080/"
        },
        "id": "Vk8v0UrE5BhL",
        "outputId": "61b726af-6856-42d8-c319-c025aeabe050"
      },
      "outputs": [
        {
          "output_type": "stream",
          "name": "stderr",
          "text": [
            "/usr/local/lib/python3.9/dist-packages/tensorflow_addons/utils/tfa_eol_msg.py:23: UserWarning: \n",
            "\n",
            "TensorFlow Addons (TFA) has ended development and introduction of new features.\n",
            "TFA has entered a minimal maintenance and release mode until a planned end of life in May 2024.\n",
            "Please modify downstream libraries to take dependencies from other repositories in our TensorFlow community (e.g. Keras, Keras-CV, and Keras-NLP). \n",
            "\n",
            "For more information see: https://github.com/tensorflow/addons/issues/2807 \n",
            "\n",
            "  warnings.warn(\n",
            "<ipython-input-2-4927589ade63>:12: DeprecationWarning: `import kerastuner` is deprecated, please use `import keras_tuner`.\n",
            "  from kerastuner import RandomSearch\n"
          ]
        }
      ],
      "source": [
        "from tensorflow.keras.layers import *\n",
        "from tensorflow.keras.models import Model\n",
        "from tensorflow.keras.layers import Add, Dense, Dropout, Embedding, GlobalAveragePooling1D, Input, Layer, LayerNormalization, MultiHeadAttention\n",
        "\n",
        "import tensorflow as tf\n",
        "from tensorflow import keras\n",
        "import tensorflow_addons as tfa\n",
        "from tensorflow.keras import layers\n",
        "import matplotlib\n",
        "import matplotlib.pyplot as plt\n",
        "from tensorflow.keras.utils import to_categorical\n",
        "from kerastuner import RandomSearch"
      ]
    },
    {
      "cell_type": "code",
      "execution_count": 3,
      "metadata": {
        "colab": {
          "base_uri": "https://localhost:8080/"
        },
        "id": "pLTGWO_x5JKm",
        "outputId": "26c31a96-7f54-4a22-c11e-93d23a7ebcfc"
      },
      "outputs": [
        {
          "output_type": "stream",
          "name": "stdout",
          "text": [
            "Downloading data from https://www.cs.toronto.edu/~kriz/cifar-100-python.tar.gz\n",
            "169001437/169001437 [==============================] - 4s 0us/step\n"
          ]
        }
      ],
      "source": [
        "(X_train, Y_train), (X_test, Y_test) = keras.datasets.cifar100.load_data()\n",
        "# Normalize data\n",
        "x_train = X_train.astype('float32') / 255.0\n",
        "x_test = X_test.astype('float32') / 255.0\n",
        "\n",
        "# Convert class vectors to binary class matrices\n",
        "num_classes = 100\n",
        "y_train = to_categorical(Y_train, num_classes)\n",
        "y_test = to_categorical(Y_test, num_classes)"
      ]
    },
    {
      "cell_type": "code",
      "source": [
        "# Choose 9 random images\n",
        "import numpy as np\n",
        "indices = np.random.randint(0, x_train.shape[0], 9)\n",
        "images = x_train[indices]\n",
        "labels = Y_train[indices]\n",
        "\n",
        "# Plot the images\n",
        "fig, axes = plt.subplots(3, 3)\n",
        "for i, ax in enumerate(axes.flat):\n",
        "    ax.imshow(images[i])\n",
        "    ax.set_title(f\"Label: {labels[i][0]}\")\n",
        "    ax.axis(\"off\")\n",
        "\n",
        "plt.show()"
      ],
      "metadata": {
        "colab": {
          "base_uri": "https://localhost:8080/",
          "height": 428
        },
        "id": "bFDgXNvn0q3E",
        "outputId": "5e246090-dc0c-4e7d-d2b9-b9fe32ffbaa1"
      },
      "execution_count": 10,
      "outputs": [
        {
          "output_type": "display_data",
          "data": {
            "text/plain": [
              "<Figure size 640x480 with 9 Axes>"
            ],
            "image/png": "[encoded data removed]"
          },
          "metadata": {}
        }
      ]
    },
    {
      "cell_type": "code",
      "execution_count": 5,
      "metadata": {
        "id": "euIRCdxs5kHP"
      },
      "outputs": [],
      "source": [
        "def multilayer_perceptron(x, hidden_units, dropout_rate):\n",
        "    for units in hidden_units:\n",
        "        x = layers.Dense(units, activation=tf.nn.gelu)(x)\n",
        "        x = layers.Dropout(dropout_rate)(x)\n",
        "    return x"
      ]
    },
    {
      "cell_type": "code",
      "execution_count": 6,
      "metadata": {
        "id": "gMm2FSs85nUK"
      },
      "outputs": [],
      "source": [
        "def patchImage(patch_size,images):\n",
        "  batch_size = tf.shape(images)[0]\n",
        "  patches = tf.image.extract_patches(\n",
        "            images=images,\n",
        "            sizes=[1, patch_size, patch_size, 1],\n",
        "            strides=[1, patch_size, patch_size, 1],\n",
        "            rates=[1, 1, 1, 1],\n",
        "            padding=\"VALID\",\n",
        "        )\n",
        "  patch_dims = patches.shape[-1]\n",
        "  patches = tf.reshape(patches, [batch_size, -1, patch_dims])\n",
        "  return patches"
      ]
    },
    {
      "cell_type": "code",
      "execution_count": 7,
      "metadata": {
        "id": "NY4C4vre7MmZ"
      },
      "outputs": [],
      "source": [
        "def patchEncoder(num_patches,nuberNuron,patch):\n",
        "    projection = layers.Dense(units=nuberNuron)\n",
        "    position_embedding = layers.Embedding(\n",
        "            input_dim=num_patches, output_dim=nuberNuron\n",
        "        )\n",
        "    positions = tf.range(start=0, limit=num_patches, delta=1)\n",
        "    encoded = projection(patch) + position_embedding(positions)\n",
        "    return encoded"
      ]
    },
    {
      "cell_type": "code",
      "source": [
        "def vision_transformer(hp):\n",
        "\n",
        "    projection_dim = hp.Choice('projection_dim', values=[32, 64, 128, 256])\n",
        "    patch_size = hp.Choice('patch_size', values=[6, 8, 9, 12])\n",
        "    learning_rate = hp.Choice('learning_rate', values=[1e-5, 1e-4, 1e-3, 1e-2, 1e-1])\n",
        "    transformer_block = hp.Choice('transformer_block', values=[6,8,12])\n",
        "    mlp_head_units = [2048, 1024] \n",
        "    transformer_units = [\n",
        "        projection_dim * 2,\n",
        "        projection_dim * 2,\n",
        "        projection_dim,\n",
        "    ]  # Size of the transformer layers\n",
        "    num_patches = (72 // patch_size) ** 2\n",
        "\n",
        "\n",
        "    inputs = keras.Input(shape=(32, 32, 3))\n",
        "    resized_image = layers.experimental.preprocessing.Resizing(72, 72)(inputs)\n",
        "\n",
        "    patches = patchImage(patch_size,resized_image)\n",
        "\n",
        "    encoded_patches = patchEncoder(num_patches, projection_dim,patches)\n",
        "\n",
        "\n",
        "\n",
        "    # Transformer blocks\n",
        "    for _ in range(transformer_block):\n",
        "\n",
        "        x1 = layers.LayerNormalization(epsilon=1e-6)(encoded_patches)\n",
        "\n",
        "        attention_output = layers.MultiHeadAttention(\n",
        "            num_heads=4, key_dim=projection_dim, dropout=0.1\n",
        "        )(x1, x1)\n",
        "\n",
        "        x2 = layers.Add()([attention_output, encoded_patches])\n",
        "\n",
        "        x3 = layers.LayerNormalization(epsilon=1e-6)(x2)\n",
        "        \n",
        "        x3 = multilayer_perceptron(x3, hidden_units=transformer_units, dropout_rate=0.2)\n",
        "\n",
        "        encoded_patches = layers.Add()([x3, x2])\n",
        "\n",
        "\n",
        "    representation = layers.LayerNormalization(epsilon=1e-6)(encoded_patches)\n",
        "    representation = layers.Flatten()(representation)\n",
        "    representation = layers.Dropout(0.5)(representation)\n",
        "    features = multilayer_perceptron(representation, hidden_units=mlp_head_units, dropout_rate=0.3)\n",
        "    outputs = layers.Dense(100, activation=\"softmax\")(features)\n",
        "\n",
        "    model = keras.Model(inputs=inputs, outputs=outputs)\n",
        "    optimizer = tfa.optimizers.AdamW(\n",
        "        learning_rate=learning_rate, weight_decay=0.0001\n",
        "    )\n",
        "    model.compile(optimizer=optimizer, loss=\"categorical_crossentropy\", metrics=[\"accuracy\"])\n",
        "\n",
        "    return model"
      ],
      "metadata": {
        "id": "XXo8z6OSyOst"
      },
      "execution_count": null,
      "outputs": []
    },
    {
      "cell_type": "code",
      "source": [
        "tuner = RandomSearch(\n",
        "    vision_transformer,\n",
        "    objective='val_accuracy',\n",
        "    max_trials=5,\n",
        "    executions_per_trial=2,\n",
        "    directory='cifar100_vit_tuning',\n",
        "    project_name='ViT_hyperparam_tuning'\n",
        ")\n",
        "tuner.search(x_train, y_train, epochs=30, validation_split=0.1, batch_size=64)\n",
        "\n",
        "best_hyperparameters = tuner.get_best_hyperparameters(num_trials=1)[0]\n",
        "print(\"Best hyperparameters:\", best_hyperparameters.values)\n",
        "# best_model = tuner.get_best_models(num_models=1)[0]"
      ],
      "metadata": {
        "id": "uHAsKNVNyOw8"
      },
      "execution_count": null,
      "outputs": []
    },
    {
      "cell_type": "code",
      "source": [
        "input_shape = (32, 32, 3)\n",
        "num_classes = 100\n",
        "projection_dim = 64\n",
        "num_heads = 4\n",
        "patch_size = 6\n",
        "num_transformer_blocks = 6\n",
        "mlp_head_units = [2048, 1024] \n",
        "transformer_units = [\n",
        "    projection_dim * 2,\n",
        "    projection_dim * 2,\n",
        "    projection_dim,\n",
        "]  \n",
        "num_patches = (72 // patch_size) ** 2\n",
        "\n",
        "learning_rate = 0.0001\n",
        "\n",
        "\n",
        "from tensorflow.keras.metrics import top_k_categorical_accuracy\n",
        "\n",
        "\n",
        "# Define the top-5-accuracy metric\n",
        "def top_5_accuracy(y_true, y_pred):\n",
        "    return top_k_categorical_accuracy(y_true, y_pred, k=5)"
      ],
      "metadata": {
        "id": "265v_YS8D_RP"
      },
      "execution_count": 8,
      "outputs": []
    },
    {
      "cell_type": "code",
      "execution_count": 9,
      "metadata": {
        "id": "gk9YvyqECPcq"
      },
      "outputs": [],
      "source": [
        "def besst_vision_transformer():\n",
        "\n",
        "\n",
        "    inputs = keras.Input(shape=input_shape)\n",
        "    # resized_image = data_augmentation(inputs)\n",
        "    resized_image = layers.experimental.preprocessing.Resizing(72, 72)(inputs)\n",
        "\n",
        "    patches = patchImage(patch_size,resized_image)\n",
        "  \n",
        "    encoded_patches = patchEncoder(num_patches, projection_dim,patches)\n",
        "\n",
        "\n",
        "\n",
        "    # Transformer blocks\n",
        "    for _ in range(num_transformer_blocks):\n",
        "\n",
        "        x1 = layers.LayerNormalization(epsilon=1e-6)(encoded_patches)\n",
        "\n",
        "        attention_output = layers.MultiHeadAttention(\n",
        "            num_heads=num_heads, key_dim=projection_dim, dropout=0.1\n",
        "        )(x1, x1)\n",
        "\n",
        "        x2 = layers.Add()([attention_output, encoded_patches])\n",
        "\n",
        "        x3 = layers.LayerNormalization(epsilon=1e-6)(x2)\n",
        "        \n",
        "        x3 = multilayer_perceptron(x3, hidden_units=transformer_units, dropout_rate=0.3)\n",
        "\n",
        "        encoded_patches = layers.Add()([x3, x2])\n",
        "\n",
        "\n",
        "    representation = layers.LayerNormalization(epsilon=1e-6)(encoded_patches)\n",
        "    representation = layers.Flatten()(representation)\n",
        "    representation = layers.Dropout(0.5)(representation)\n",
        "    features = multilayer_perceptron(representation, hidden_units=mlp_head_units, dropout_rate=0.5)\n",
        "    outputs = layers.Dense(num_classes, activation=\"softmax\")(features)\n",
        "\n",
        "    model = keras.Model(inputs=inputs, outputs=outputs)\n",
        "    optimizer = tfa.optimizers.AdamW(\n",
        "        learning_rate=learning_rate, weight_decay=0.0001\n",
        "    )\n",
        "    model.compile(optimizer=optimizer, loss=\"categorical_crossentropy\", metrics=[\"accuracy\",top_5_accuracy])\n",
        "\n",
        "    return model"
      ]
    },
    {
      "cell_type": "code",
      "execution_count": 10,
      "metadata": {
        "id": "u2im8MaUCZbS",
        "colab": {
          "base_uri": "https://localhost:8080/"
        },
        "outputId": "2db484ac-3278-4b68-a81b-37e16d52ab72"
      },
      "outputs": [
        {
          "output_type": "stream",
          "name": "stdout",
          "text": [
            "Model: \"model\"\n",
            "__________________________________________________________________________________________________\n",
            " Layer (type)                   Output Shape         Param #     Connected to                     \n",
            "==================================================================================================\n",
            " input_1 (InputLayer)           [(None, 32, 32, 3)]  0           []                               \n",
            "                                                                                                  \n",
            " resizing (Resizing)            (None, 72, 72, 3)    0           ['input_1[0][0]']                \n",
            "                                                                                                  \n",
            " tf.compat.v1.shape (TFOpLambda  (4,)                0           ['resizing[0][0]']               \n",
            " )                                                                                                \n",
            "                                                                                                  \n",
            " tf.image.extract_patches (TFOp  (None, 12, 12, 108)  0          ['resizing[0][0]']               \n",
            " Lambda)                                                                                          \n",
            "                                                                                                  \n",
            " tf.__operators__.getitem (Slic  ()                  0           ['tf.compat.v1.shape[0][0]']     \n",
            " ingOpLambda)                                                                                     \n",
            "                                                                                                  \n",
            " tf.reshape (TFOpLambda)        (None, None, 108)    0           ['tf.image.extract_patches[0][0]'\n",
            "                                                                 , 'tf.__operators__.getitem[0][0]\n",
            "                                                                 ']                               \n",
            "                                                                                                  \n",
            " dense (Dense)                  (None, None, 64)     6976        ['tf.reshape[0][0]']             \n",
            "                                                                                                  \n",
            " tf.__operators__.add (TFOpLamb  (None, 144, 64)     0           ['dense[0][0]']                  \n",
            " da)                                                                                              \n",
            "                                                                                                  \n",
            " layer_normalization (LayerNorm  (None, 144, 64)     128         ['tf.__operators__.add[0][0]']   \n",
            " alization)                                                                                       \n",
            "                                                                                                  \n",
            " multi_head_attention (MultiHea  (None, 144, 64)     66368       ['layer_normalization[0][0]',    \n",
            " dAttention)                                                      'layer_normalization[0][0]']    \n",
            "                                                                                                  \n",
            " add (Add)                      (None, 144, 64)      0           ['multi_head_attention[0][0]',   \n",
            "                                                                  'tf.__operators__.add[0][0]']   \n",
            "                                                                                                  \n",
            " layer_normalization_1 (LayerNo  (None, 144, 64)     128         ['add[0][0]']                    \n",
            " rmalization)                                                                                     \n",
            "                                                                                                  \n",
            " dense_1 (Dense)                (None, 144, 128)     8320        ['layer_normalization_1[0][0]']  \n",
            "                                                                                                  \n",
            " dropout (Dropout)              (None, 144, 128)     0           ['dense_1[0][0]']                \n",
            "                                                                                                  \n",
            " dense_2 (Dense)                (None, 144, 128)     16512       ['dropout[0][0]']                \n",
            "                                                                                                  \n",
            " dropout_1 (Dropout)            (None, 144, 128)     0           ['dense_2[0][0]']                \n",
            "                                                                                                  \n",
            " dense_3 (Dense)                (None, 144, 64)      8256        ['dropout_1[0][0]']              \n",
            "                                                                                                  \n",
            " dropout_2 (Dropout)            (None, 144, 64)      0           ['dense_3[0][0]']                \n",
            "                                                                                                  \n",
            " add_1 (Add)                    (None, 144, 64)      0           ['dropout_2[0][0]',              \n",
            "                                                                  'add[0][0]']                    \n",
            "                                                                                                  \n",
            " layer_normalization_2 (LayerNo  (None, 144, 64)     128         ['add_1[0][0]']                  \n",
            " rmalization)                                                                                     \n",
            "                                                                                                  \n",
            " multi_head_attention_1 (MultiH  (None, 144, 64)     66368       ['layer_normalization_2[0][0]',  \n",
            " eadAttention)                                                    'layer_normalization_2[0][0]']  \n",
            "                                                                                                  \n",
            " add_2 (Add)                    (None, 144, 64)      0           ['multi_head_attention_1[0][0]', \n",
            "                                                                  'add_1[0][0]']                  \n",
            "                                                                                                  \n",
            " layer_normalization_3 (LayerNo  (None, 144, 64)     128         ['add_2[0][0]']                  \n",
            " rmalization)                                                                                     \n",
            "                                                                                                  \n",
            " dense_4 (Dense)                (None, 144, 128)     8320        ['layer_normalization_3[0][0]']  \n",
            "                                                                                                  \n",
            " dropout_3 (Dropout)            (None, 144, 128)     0           ['dense_4[0][0]']                \n",
            "                                                                                                  \n",
            " dense_5 (Dense)                (None, 144, 128)     16512       ['dropout_3[0][0]']              \n",
            "                                                                                                  \n",
            " dropout_4 (Dropout)            (None, 144, 128)     0           ['dense_5[0][0]']                \n",
            "                                                                                                  \n",
            " dense_6 (Dense)                (None, 144, 64)      8256        ['dropout_4[0][0]']              \n",
            "                                                                                                  \n",
            " dropout_5 (Dropout)            (None, 144, 64)      0           ['dense_6[0][0]']                \n",
            "                                                                                                  \n",
            " add_3 (Add)                    (None, 144, 64)      0           ['dropout_5[0][0]',              \n",
            "                                                                  'add_2[0][0]']                  \n",
            "                                                                                                  \n",
            " layer_normalization_4 (LayerNo  (None, 144, 64)     128         ['add_3[0][0]']                  \n",
            " rmalization)                                                                                     \n",
            "                                                                                                  \n",
            " multi_head_attention_2 (MultiH  (None, 144, 64)     66368       ['layer_normalization_4[0][0]',  \n",
            " eadAttention)                                                    'layer_normalization_4[0][0]']  \n",
            "                                                                                                  \n",
            " add_4 (Add)                    (None, 144, 64)      0           ['multi_head_attention_2[0][0]', \n",
            "                                                                  'add_3[0][0]']                  \n",
            "                                                                                                  \n",
            " layer_normalization_5 (LayerNo  (None, 144, 64)     128         ['add_4[0][0]']                  \n",
            " rmalization)                                                                                     \n",
            "                                                                                                  \n",
            " dense_7 (Dense)                (None, 144, 128)     8320        ['layer_normalization_5[0][0]']  \n",
            "                                                                                                  \n",
            " dropout_6 (Dropout)            (None, 144, 128)     0           ['dense_7[0][0]']                \n",
            "                                                                                                  \n",
            " dense_8 (Dense)                (None, 144, 128)     16512       ['dropout_6[0][0]']              \n",
            "                                                                                                  \n",
            " dropout_7 (Dropout)            (None, 144, 128)     0           ['dense_8[0][0]']                \n",
            "                                                                                                  \n",
            " dense_9 (Dense)                (None, 144, 64)      8256        ['dropout_7[0][0]']              \n",
            "                                                                                                  \n",
            " dropout_8 (Dropout)            (None, 144, 64)      0           ['dense_9[0][0]']                \n",
            "                                                                                                  \n",
            " add_5 (Add)                    (None, 144, 64)      0           ['dropout_8[0][0]',              \n",
            "                                                                  'add_4[0][0]']                  \n",
            "                                                                                                  \n",
            " layer_normalization_6 (LayerNo  (None, 144, 64)     128         ['add_5[0][0]']                  \n",
            " rmalization)                                                                                     \n",
            "                                                                                                  \n",
            " multi_head_attention_3 (MultiH  (None, 144, 64)     66368       ['layer_normalization_6[0][0]',  \n",
            " eadAttention)                                                    'layer_normalization_6[0][0]']  \n",
            "                                                                                                  \n",
            " add_6 (Add)                    (None, 144, 64)      0           ['multi_head_attention_3[0][0]', \n",
            "                                                                  'add_5[0][0]']                  \n",
            "                                                                                                  \n",
            " layer_normalization_7 (LayerNo  (None, 144, 64)     128         ['add_6[0][0]']                  \n",
            " rmalization)                                                                                     \n",
            "                                                                                                  \n",
            " dense_10 (Dense)               (None, 144, 128)     8320        ['layer_normalization_7[0][0]']  \n",
            "                                                                                                  \n",
            " dropout_9 (Dropout)            (None, 144, 128)     0           ['dense_10[0][0]']               \n",
            "                                                                                                  \n",
            " dense_11 (Dense)               (None, 144, 128)     16512       ['dropout_9[0][0]']              \n",
            "                                                                                                  \n",
            " dropout_10 (Dropout)           (None, 144, 128)     0           ['dense_11[0][0]']               \n",
            "                                                                                                  \n",
            " dense_12 (Dense)               (None, 144, 64)      8256        ['dropout_10[0][0]']             \n",
            "                                                                                                  \n",
            " dropout_11 (Dropout)           (None, 144, 64)      0           ['dense_12[0][0]']               \n",
            "                                                                                                  \n",
            " add_7 (Add)                    (None, 144, 64)      0           ['dropout_11[0][0]',             \n",
            "                                                                  'add_6[0][0]']                  \n",
            "                                                                                                  \n",
            " layer_normalization_8 (LayerNo  (None, 144, 64)     128         ['add_7[0][0]']                  \n",
            " rmalization)                                                                                     \n",
            "                                                                                                  \n",
            " multi_head_attention_4 (MultiH  (None, 144, 64)     66368       ['layer_normalization_8[0][0]',  \n",
            " eadAttention)                                                    'layer_normalization_8[0][0]']  \n",
            "                                                                                                  \n",
            " add_8 (Add)                    (None, 144, 64)      0           ['multi_head_attention_4[0][0]', \n",
            "                                                                  'add_7[0][0]']                  \n",
            "                                                                                                  \n",
            " layer_normalization_9 (LayerNo  (None, 144, 64)     128         ['add_8[0][0]']                  \n",
            " rmalization)                                                                                     \n",
            "                                                                                                  \n",
            " dense_13 (Dense)               (None, 144, 128)     8320        ['layer_normalization_9[0][0]']  \n",
            "                                                                                                  \n",
            " dropout_12 (Dropout)           (None, 144, 128)     0           ['dense_13[0][0]']               \n",
            "                                                                                                  \n",
            " dense_14 (Dense)               (None, 144, 128)     16512       ['dropout_12[0][0]']             \n",
            "                                                                                                  \n",
            " dropout_13 (Dropout)           (None, 144, 128)     0           ['dense_14[0][0]']               \n",
            "                                                                                                  \n",
            " dense_15 (Dense)               (None, 144, 64)      8256        ['dropout_13[0][0]']             \n",
            "                                                                                                  \n",
            " dropout_14 (Dropout)           (None, 144, 64)      0           ['dense_15[0][0]']               \n",
            "                                                                                                  \n",
            " add_9 (Add)                    (None, 144, 64)      0           ['dropout_14[0][0]',             \n",
            "                                                                  'add_8[0][0]']                  \n",
            "                                                                                                  \n",
            " layer_normalization_10 (LayerN  (None, 144, 64)     128         ['add_9[0][0]']                  \n",
            " ormalization)                                                                                    \n",
            "                                                                                                  \n",
            " multi_head_attention_5 (MultiH  (None, 144, 64)     66368       ['layer_normalization_10[0][0]', \n",
            " eadAttention)                                                    'layer_normalization_10[0][0]'] \n",
            "                                                                                                  \n",
            " add_10 (Add)                   (None, 144, 64)      0           ['multi_head_attention_5[0][0]', \n",
            "                                                                  'add_9[0][0]']                  \n",
            "                                                                                                  \n",
            " layer_normalization_11 (LayerN  (None, 144, 64)     128         ['add_10[0][0]']                 \n",
            " ormalization)                                                                                    \n",
            "                                                                                                  \n",
            " dense_16 (Dense)               (None, 144, 128)     8320        ['layer_normalization_11[0][0]'] \n",
            "                                                                                                  \n",
            " dropout_15 (Dropout)           (None, 144, 128)     0           ['dense_16[0][0]']               \n",
            "                                                                                                  \n",
            " dense_17 (Dense)               (None, 144, 128)     16512       ['dropout_15[0][0]']             \n",
            "                                                                                                  \n",
            " dropout_16 (Dropout)           (None, 144, 128)     0           ['dense_17[0][0]']               \n",
            "                                                                                                  \n",
            " dense_18 (Dense)               (None, 144, 64)      8256        ['dropout_16[0][0]']             \n",
            "                                                                                                  \n",
            " dropout_17 (Dropout)           (None, 144, 64)      0           ['dense_18[0][0]']               \n",
            "                                                                                                  \n",
            " add_11 (Add)                   (None, 144, 64)      0           ['dropout_17[0][0]',             \n",
            "                                                                  'add_10[0][0]']                 \n",
            "                                                                                                  \n",
            " layer_normalization_12 (LayerN  (None, 144, 64)     128         ['add_11[0][0]']                 \n",
            " ormalization)                                                                                    \n",
            "                                                                                                  \n",
            " flatten (Flatten)              (None, 9216)         0           ['layer_normalization_12[0][0]'] \n",
            "                                                                                                  \n",
            " dropout_18 (Dropout)           (None, 9216)         0           ['flatten[0][0]']                \n",
            "                                                                                                  \n",
            " dense_19 (Dense)               (None, 2048)         18876416    ['dropout_18[0][0]']             \n",
            "                                                                                                  \n",
            " dropout_19 (Dropout)           (None, 2048)         0           ['dense_19[0][0]']               \n",
            "                                                                                                  \n",
            " dense_20 (Dense)               (None, 1024)         2098176     ['dropout_19[0][0]']             \n",
            "                                                                                                  \n",
            " dropout_20 (Dropout)           (None, 1024)         0           ['dense_20[0][0]']               \n",
            "                                                                                                  \n",
            " dense_21 (Dense)               (None, 100)          102500      ['dropout_20[0][0]']             \n",
            "                                                                                                  \n",
            "==================================================================================================\n",
            "Total params: 21,682,468\n",
            "Trainable params: 21,682,468\n",
            "Non-trainable params: 0\n",
            "__________________________________________________________________________________________________\n"
          ]
        }
      ],
      "source": [
        "best_model = besst_vision_transformer()\n",
        "best_model.summary()"
      ]
    },
    {
      "cell_type": "code",
      "execution_count": 22,
      "metadata": {
        "colab": {
          "base_uri": "https://localhost:8080/"
        },
        "id": "66VjqyBPCbVE",
        "outputId": "a5c2c10e-dbcd-430d-db56-6ffbf8202cdb"
      },
      "outputs": [
        {
          "output_type": "stream",
          "name": "stdout",
          "text": [
            "Epoch 1/45\n",
            "176/176 [==============================] - 69s 339ms/step - loss: 4.7725 - accuracy: 0.0104 - top_5_accuracy: 0.0519 - val_loss: 4.6058 - val_accuracy: 0.0088 - val_top_5_accuracy: 0.0526 - lr: 1.0000e-04\n",
            "Epoch 2/45\n",
            "176/176 [==============================] - 55s 313ms/step - loss: 4.6097 - accuracy: 0.0104 - top_5_accuracy: 0.0512 - val_loss: 4.6039 - val_accuracy: 0.0080 - val_top_5_accuracy: 0.0536 - lr: 1.0000e-04\n",
            "Epoch 3/45\n",
            "176/176 [==============================] - 57s 325ms/step - loss: 4.6030 - accuracy: 0.0116 - top_5_accuracy: 0.0551 - val_loss: 4.5793 - val_accuracy: 0.0116 - val_top_5_accuracy: 0.0628 - lr: 1.0000e-04\n",
            "Epoch 4/45\n",
            "176/176 [==============================] - 58s 329ms/step - loss: 4.5253 - accuracy: 0.0194 - top_5_accuracy: 0.0876 - val_loss: 4.4431 - val_accuracy: 0.0260 - val_top_5_accuracy: 0.1180 - lr: 1.0000e-04\n",
            "Epoch 5/45\n",
            "176/176 [==============================] - 58s 331ms/step - loss: 4.4189 - accuracy: 0.0276 - top_5_accuracy: 0.1201 - val_loss: 4.2726 - val_accuracy: 0.0534 - val_top_5_accuracy: 0.1888 - lr: 1.0000e-04\n",
            "Epoch 6/45\n",
            "176/176 [==============================] - 58s 327ms/step - loss: 4.2660 - accuracy: 0.0467 - top_5_accuracy: 0.1786 - val_loss: 4.0028 - val_accuracy: 0.0892 - val_top_5_accuracy: 0.2648 - lr: 1.0000e-04\n",
            "Epoch 7/45\n",
            "176/176 [==============================] - 57s 325ms/step - loss: 4.0908 - accuracy: 0.0678 - top_5_accuracy: 0.2384 - val_loss: 3.8333 - val_accuracy: 0.1128 - val_top_5_accuracy: 0.3240 - lr: 1.0000e-04\n",
            "Epoch 8/45\n",
            "176/176 [==============================] - 58s 327ms/step - loss: 3.9287 - accuracy: 0.0935 - top_5_accuracy: 0.2903 - val_loss: 3.6442 - val_accuracy: 0.1460 - val_top_5_accuracy: 0.3910 - lr: 1.0000e-04\n",
            "Epoch 9/45\n",
            "176/176 [==============================] - 57s 324ms/step - loss: 3.7905 - accuracy: 0.1157 - top_5_accuracy: 0.3337 - val_loss: 3.4826 - val_accuracy: 0.1778 - val_top_5_accuracy: 0.4280 - lr: 1.0000e-04\n",
            "Epoch 10/45\n",
            "176/176 [==============================] - 58s 329ms/step - loss: 3.6461 - accuracy: 0.1416 - top_5_accuracy: 0.3797 - val_loss: 3.3396 - val_accuracy: 0.2054 - val_top_5_accuracy: 0.4608 - lr: 1.0000e-04\n",
            "Epoch 11/45\n",
            "176/176 [==============================] - 57s 324ms/step - loss: 3.5246 - accuracy: 0.1640 - top_5_accuracy: 0.4193 - val_loss: 3.2376 - val_accuracy: 0.2162 - val_top_5_accuracy: 0.4896 - lr: 1.0000e-04\n",
            "Epoch 12/45\n",
            "176/176 [==============================] - 58s 329ms/step - loss: 3.4045 - accuracy: 0.1865 - top_5_accuracy: 0.4496 - val_loss: 3.1344 - val_accuracy: 0.2406 - val_top_5_accuracy: 0.5202 - lr: 1.0000e-04\n",
            "Epoch 13/45\n",
            "176/176 [==============================] - 57s 325ms/step - loss: 3.2999 - accuracy: 0.2040 - top_5_accuracy: 0.4781 - val_loss: 3.0687 - val_accuracy: 0.2504 - val_top_5_accuracy: 0.5312 - lr: 1.0000e-04\n",
            "Epoch 14/45\n",
            "176/176 [==============================] - 58s 328ms/step - loss: 3.1991 - accuracy: 0.2206 - top_5_accuracy: 0.5048 - val_loss: 2.9943 - val_accuracy: 0.2674 - val_top_5_accuracy: 0.5492 - lr: 1.0000e-04\n",
            "Epoch 15/45\n",
            "176/176 [==============================] - 58s 330ms/step - loss: 3.1059 - accuracy: 0.2406 - top_5_accuracy: 0.5282 - val_loss: 2.9092 - val_accuracy: 0.2840 - val_top_5_accuracy: 0.5770 - lr: 1.0000e-04\n",
            "Epoch 16/45\n",
            "176/176 [==============================] - 58s 328ms/step - loss: 3.0213 - accuracy: 0.2546 - top_5_accuracy: 0.5510 - val_loss: 2.8519 - val_accuracy: 0.2942 - val_top_5_accuracy: 0.5872 - lr: 1.0000e-04\n",
            "Epoch 17/45\n",
            "176/176 [==============================] - 58s 329ms/step - loss: 2.9191 - accuracy: 0.2757 - top_5_accuracy: 0.5774 - val_loss: 2.7879 - val_accuracy: 0.3082 - val_top_5_accuracy: 0.5994 - lr: 1.0000e-04\n",
            "Epoch 18/45\n",
            "176/176 [==============================] - 55s 311ms/step - loss: 2.8440 - accuracy: 0.2936 - top_5_accuracy: 0.5932 - val_loss: 2.7435 - val_accuracy: 0.3082 - val_top_5_accuracy: 0.6080 - lr: 1.0000e-04\n",
            "Epoch 19/45\n",
            "176/176 [==============================] - 58s 328ms/step - loss: 2.7577 - accuracy: 0.3077 - top_5_accuracy: 0.6153 - val_loss: 2.7082 - val_accuracy: 0.3230 - val_top_5_accuracy: 0.6188 - lr: 1.0000e-04\n",
            "Epoch 20/45\n",
            "176/176 [==============================] - 58s 328ms/step - loss: 2.6777 - accuracy: 0.3264 - top_5_accuracy: 0.6321 - val_loss: 2.6537 - val_accuracy: 0.3300 - val_top_5_accuracy: 0.6322 - lr: 1.0000e-04\n",
            "Epoch 21/45\n",
            "176/176 [==============================] - 58s 327ms/step - loss: 2.6030 - accuracy: 0.3409 - top_5_accuracy: 0.6493 - val_loss: 2.6270 - val_accuracy: 0.3344 - val_top_5_accuracy: 0.6432 - lr: 1.0000e-04\n",
            "Epoch 22/45\n",
            "176/176 [==============================] - 57s 326ms/step - loss: 2.5214 - accuracy: 0.3566 - top_5_accuracy: 0.6682 - val_loss: 2.5862 - val_accuracy: 0.3444 - val_top_5_accuracy: 0.6506 - lr: 1.0000e-04\n",
            "Epoch 23/45\n",
            "176/176 [==============================] - 58s 327ms/step - loss: 2.4439 - accuracy: 0.3738 - top_5_accuracy: 0.6856 - val_loss: 2.5704 - val_accuracy: 0.3448 - val_top_5_accuracy: 0.6534 - lr: 1.0000e-04\n",
            "Epoch 24/45\n",
            "176/176 [==============================] - 58s 328ms/step - loss: 2.3815 - accuracy: 0.3856 - top_5_accuracy: 0.7008 - val_loss: 2.5427 - val_accuracy: 0.3562 - val_top_5_accuracy: 0.6576 - lr: 1.0000e-04\n",
            "Epoch 25/45\n",
            "176/176 [==============================] - 54s 307ms/step - loss: 2.3063 - accuracy: 0.4050 - top_5_accuracy: 0.7168 - val_loss: 2.5239 - val_accuracy: 0.3552 - val_top_5_accuracy: 0.6646 - lr: 1.0000e-04\n",
            "Epoch 26/45\n",
            "176/176 [==============================] - 58s 329ms/step - loss: 2.2273 - accuracy: 0.4220 - top_5_accuracy: 0.7341 - val_loss: 2.4930 - val_accuracy: 0.3676 - val_top_5_accuracy: 0.6680 - lr: 1.0000e-04\n",
            "Epoch 27/45\n",
            "176/176 [==============================] - 58s 331ms/step - loss: 2.1535 - accuracy: 0.4369 - top_5_accuracy: 0.7500 - val_loss: 2.4547 - val_accuracy: 0.3716 - val_top_5_accuracy: 0.6682 - lr: 1.0000e-04\n",
            "Epoch 28/45\n",
            "176/176 [==============================] - 57s 326ms/step - loss: 2.0894 - accuracy: 0.4519 - top_5_accuracy: 0.7620 - val_loss: 2.4509 - val_accuracy: 0.3768 - val_top_5_accuracy: 0.6770 - lr: 1.0000e-04\n",
            "Epoch 29/45\n",
            "176/176 [==============================] - 58s 331ms/step - loss: 2.0192 - accuracy: 0.4672 - top_5_accuracy: 0.7767 - val_loss: 2.4399 - val_accuracy: 0.3824 - val_top_5_accuracy: 0.6792 - lr: 1.0000e-04\n",
            "Epoch 30/45\n",
            "176/176 [==============================] - 58s 329ms/step - loss: 1.9510 - accuracy: 0.4820 - top_5_accuracy: 0.7888 - val_loss: 2.4153 - val_accuracy: 0.3838 - val_top_5_accuracy: 0.6830 - lr: 1.0000e-04\n",
            "Epoch 31/45\n",
            "176/176 [==============================] - 54s 308ms/step - loss: 1.8747 - accuracy: 0.4994 - top_5_accuracy: 0.8047 - val_loss: 2.4390 - val_accuracy: 0.3820 - val_top_5_accuracy: 0.6832 - lr: 1.0000e-04\n",
            "Epoch 32/45\n",
            "176/176 [==============================] - 57s 325ms/step - loss: 1.8161 - accuracy: 0.5138 - top_5_accuracy: 0.8169 - val_loss: 2.4040 - val_accuracy: 0.3894 - val_top_5_accuracy: 0.6882 - lr: 1.0000e-04\n",
            "Epoch 33/45\n",
            "176/176 [==============================] - 58s 328ms/step - loss: 1.7456 - accuracy: 0.5272 - top_5_accuracy: 0.8281 - val_loss: 2.4024 - val_accuracy: 0.3934 - val_top_5_accuracy: 0.6874 - lr: 1.0000e-04\n",
            "Epoch 34/45\n",
            "176/176 [==============================] - 58s 329ms/step - loss: 1.6857 - accuracy: 0.5436 - top_5_accuracy: 0.8416 - val_loss: 2.3694 - val_accuracy: 0.4008 - val_top_5_accuracy: 0.6966 - lr: 1.0000e-04\n",
            "Epoch 35/45\n",
            "176/176 [==============================] - 54s 308ms/step - loss: 1.6194 - accuracy: 0.5557 - top_5_accuracy: 0.8530 - val_loss: 2.3775 - val_accuracy: 0.3986 - val_top_5_accuracy: 0.6948 - lr: 1.0000e-04\n",
            "Epoch 36/45\n",
            "176/176 [==============================] - 55s 313ms/step - loss: 1.5544 - accuracy: 0.5772 - top_5_accuracy: 0.8636 - val_loss: 2.3748 - val_accuracy: 0.3954 - val_top_5_accuracy: 0.6924 - lr: 1.0000e-04\n",
            "Epoch 37/45\n",
            "176/176 [==============================] - 58s 328ms/step - loss: 1.4969 - accuracy: 0.5891 - top_5_accuracy: 0.8750 - val_loss: 2.4051 - val_accuracy: 0.4018 - val_top_5_accuracy: 0.6914 - lr: 1.0000e-04\n",
            "Epoch 38/45\n",
            "176/176 [==============================] - 55s 311ms/step - loss: 1.4274 - accuracy: 0.6061 - top_5_accuracy: 0.8857 - val_loss: 2.4078 - val_accuracy: 0.4006 - val_top_5_accuracy: 0.6946 - lr: 1.0000e-04\n",
            "Epoch 39/45\n",
            "176/176 [==============================] - 55s 310ms/step - loss: 1.3737 - accuracy: 0.6212 - top_5_accuracy: 0.8943 - val_loss: 2.3916 - val_accuracy: 0.4006 - val_top_5_accuracy: 0.6946 - lr: 1.0000e-04\n",
            "Epoch 40/45\n",
            "176/176 [==============================] - 55s 311ms/step - loss: 1.3243 - accuracy: 0.6304 - top_5_accuracy: 0.9035 - val_loss: 2.4027 - val_accuracy: 0.3994 - val_top_5_accuracy: 0.6918 - lr: 1.0000e-04\n",
            "Epoch 41/45\n",
            "176/176 [==============================] - 58s 331ms/step - loss: 1.2059 - accuracy: 0.6679 - top_5_accuracy: 0.9217 - val_loss: 2.3486 - val_accuracy: 0.4038 - val_top_5_accuracy: 0.6992 - lr: 2.0000e-05\n",
            "Epoch 42/45\n",
            "176/176 [==============================] - 57s 326ms/step - loss: 1.1931 - accuracy: 0.6764 - top_5_accuracy: 0.9247 - val_loss: 2.3428 - val_accuracy: 0.4048 - val_top_5_accuracy: 0.7014 - lr: 2.0000e-05\n",
            "Epoch 43/45\n",
            "176/176 [==============================] - 57s 325ms/step - loss: 1.2087 - accuracy: 0.6715 - top_5_accuracy: 0.9226 - val_loss: 2.3375 - val_accuracy: 0.4052 - val_top_5_accuracy: 0.7004 - lr: 2.0000e-05\n",
            "Epoch 44/45\n",
            "176/176 [==============================] - 58s 329ms/step - loss: 1.2273 - accuracy: 0.6674 - top_5_accuracy: 0.9210 - val_loss: 2.3433 - val_accuracy: 0.4074 - val_top_5_accuracy: 0.6990 - lr: 2.0000e-05\n",
            "Epoch 45/45\n",
            "176/176 [==============================] - 55s 311ms/step - loss: 1.2407 - accuracy: 0.6664 - top_5_accuracy: 0.9215 - val_loss: 2.3356 - val_accuracy: 0.4042 - val_top_5_accuracy: 0.6982 - lr: 2.0000e-05\n"
          ]
        }
      ],
      "source": [
        "from tensorflow.keras.callbacks import ReduceLROnPlateau\n",
        "from tensorflow.keras.callbacks import EarlyStopping\n",
        "checkpoint_filepath = \"/content/drive/MyDrive/Project/checkpoint2.h5\"\n",
        "\n",
        "checkpoint_callback = keras.callbacks.ModelCheckpoint(  \n",
        "    checkpoint_filepath,\n",
        "    monitor=\"val_accuracy\",\n",
        "    save_best_only=True,\n",
        "    save_weights_only=False,\n",
        ")\n",
        "\n",
        "reduce_lr = ReduceLROnPlateau(monitor='val_accuracy', factor=0.2, patience=3, min_lr=1e-6)\n",
        "early_stopping = EarlyStopping(monitor=\"val_loss\", mode=\"min\", patience=3)\n",
        "# history = best_model.fit(\n",
        "#     x=x_train,\n",
        "#     y=y_train,\n",
        "#     batch_size=256,\n",
        "#     epochs=45,\n",
        "#     validation_split=0.1,\n",
        "#     callbacks=[checkpoint_callback,reduce_lr],\n",
        "# )"
      ]
    },
    {
      "cell_type": "code",
      "source": [
        "# Plot the accuracy\n",
        "plt.plot(history.history['accuracy'])\n",
        "plt.plot(history.history['val_accuracy'])\n",
        "plt.title('Vit Model Accuracy')\n",
        "plt.ylabel('Accuracy')\n",
        "plt.xlabel('Epoch')\n",
        "plt.legend(['train', 'validation'], loc='upper left')\n",
        "plt.show()\n",
        "\n",
        "# Plot the loss\n",
        "plt.plot(history.history['loss'])\n",
        "plt.plot(history.history['val_loss'])\n",
        "plt.title('Vit Model Loss')\n",
        "plt.ylabel('Loss')\n",
        "plt.xlabel('Epoch')\n",
        "plt.legend(['train', 'validation'], loc='upper left')\n",
        "plt.show()"
      ],
      "metadata": {
        "colab": {
          "base_uri": "https://localhost:8080/",
          "height": 573
        },
        "id": "TDKX2354EP47",
        "outputId": "b99e0ca0-81c6-413a-b1eb-fb25689c88ad"
      },
      "execution_count": 23,
      "outputs": [
        {
          "output_type": "display_data",
          "data": {
            "text/plain": [
              "<Figure size 432x288 with 1 Axes>"
            ],
            "image/png": "[encoded data removed]"
          },
          "metadata": {
            "needs_background": "light"
          }
        },
        {
          "output_type": "display_data",
          "data": {
            "text/plain": [
              "<Figure size 432x288 with 1 Axes>"
            ],
            "image/png": "[encoded data removed]"
          },
          "metadata": {
            "needs_background": "light"
          }
        }
      ]
    },
    {
      "cell_type": "code",
      "execution_count": 13,
      "metadata": {
        "id": "Kz1jtRCnidzz",
        "colab": {
          "base_uri": "https://localhost:8080/"
        },
        "outputId": "4d156e5b-2d4b-416d-b018-2d59207ee7f1"
      },
      "outputs": [
        {
          "output_type": "stream",
          "name": "stdout",
          "text": [
            "313/313 [==============================] - 11s 22ms/step\n"
          ]
        },
        {
          "output_type": "execute_result",
          "data": {
            "text/plain": [
              "array([[3.69315416e-07, 5.74995602e-06, 1.58596122e-05, ...,\n",
              "        2.31350711e-07, 2.84793919e-06, 7.01694298e-05],\n",
              "       [2.39749115e-05, 3.72961687e-04, 2.85093032e-04, ...,\n",
              "        6.15313137e-03, 3.90842935e-04, 2.49648892e-05],\n",
              "       [3.79375069e-06, 4.41497366e-04, 5.97692633e-05, ...,\n",
              "        1.54518148e-05, 8.19695197e-05, 1.46570574e-06],\n",
              "       ...,\n",
              "       [5.43165999e-03, 8.96346100e-05, 1.17324510e-06, ...,\n",
              "        1.20630125e-06, 6.16943851e-07, 1.68731948e-03],\n",
              "       [6.32620577e-05, 1.97483550e-05, 3.60663020e-04, ...,\n",
              "        1.07424660e-02, 2.51937355e-03, 1.50304865e-02],\n",
              "       [2.15120278e-02, 5.36024664e-03, 4.02402620e-05, ...,\n",
              "        3.37501298e-08, 3.93498449e-05, 2.93509784e-05]], dtype=float32)"
            ]
          },
          "metadata": {},
          "execution_count": 13
        }
      ],
      "source": [
        "best2_model = besst_vision_transformer()\n",
        "checkpoint_filepath = \"/content/drive/MyDrive/Project/checkpoint2.h5\"\n",
        "best2_model.load_weights(checkpoint_filepath)\n",
        "\n",
        "# _, accuracy = best2_model.evaluate(x_test, y_test)\n",
        "# print(f\"Test accuracy: {round(accuracy * 100, 2)}%\")\n",
        "y_pred = best2_model.predict(x_test)\n",
        "y_pred"
      ]
    },
    {
      "cell_type": "code",
      "source": [
        "\n",
        "import numpy as np\n",
        "y_pred_classes = np.argmax(y_pred, axis=1)\n",
        "y_true_classes = np.argmax(y_test, axis=1)\n",
        "from sklearn.metrics import precision_recall_fscore_support\n",
        "\n",
        "# Calculate the precision, recall, and F1-score\n",
        "precision, recall, f1_score, _ = precision_recall_fscore_support(y_true_classes, y_pred_classes, average='macro')\n",
        "\n",
        "# Print the results\n",
        "print(\"Precision:\", precision)\n",
        "print(\"Recall:\", recall)\n",
        "print(\"F1-score:\", f1_score)"
      ],
      "metadata": {
        "colab": {
          "base_uri": "https://localhost:8080/"
        },
        "id": "7ZbT094TPIRw",
        "outputId": "7b915924-768d-4022-aa36-648ae3ab5261"
      },
      "execution_count": 14,
      "outputs": [
        {
          "output_type": "stream",
          "name": "stdout",
          "text": [
            "Precision: 0.3969614533305843\n",
            "Recall: 0.3731000000000001\n",
            "F1-score: 0.3559674022449179\n"
          ]
        }
      ]
    }
  ],
  "metadata": {
    "accelerator": "GPU",
    "colab": {
      "provenance": []
    },
    "gpuClass": "standard",
    "kernelspec": {
      "display_name": "Python 3",
      "name": "python3"
    },
    "language_info": {
      "name": "python"
    }
  },
  "nbformat": 4,
  "nbformat_minor": 0
}